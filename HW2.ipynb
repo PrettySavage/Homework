{
 "cells": [
  {
   "cell_type": "markdown",
   "metadata": {},
   "source": [
    "# Второе домашнее задание"
   ]
  },
  {
   "cell_type": "markdown",
   "metadata": {},
   "source": [
    "## Первая задача"
   ]
  },
  {
   "cell_type": "code",
   "execution_count": null,
   "metadata": {},
   "outputs": [],
   "source": [
    "brodsky = '''Шепчу прощай неведомо кому # создаем переменную с текстом\n",
    "Не призраку же право твоему\n",
    "затем что он поддакивать горазд\n",
    "в ответ пустой ладони не подаст\n",
    "И в этом как бы новая черта\n",
    "триумф уже не голоса но рта\n",
    "как рыбой раскрываемого для\n",
    "беззвучно пузырящегося ля'''\n",
    "poem = brodsky.split() # разбиваем на слова\n",
    "len(poem) # считаем количество слов\n",
    "bigrams = [] # создаем список, в который добавим биграммы\n",
    "for i in range(len(poem) - 1): # далее вызываем элементы из списка poem по индексу так, чтобы с каждым словом в пару вставало следующее за ним слово\n",
    "    couple_of_words = poem[i] + ' ' + poem[i+1]\n",
    "    print(couple_of_words)\n",
    "    bigrams.append(couple_of_words) # добавляем результат в созданный прежде список bigrams"
   ]
  },
  {
   "cell_type": "markdown",
   "metadata": {},
   "source": [
    "## Вторая задача"
   ]
  },
  {
   "cell_type": "code",
   "execution_count": null,
   "metadata": {},
   "outputs": [],
   "source": [
    "\n",
    "\n",
    "import os\n",
    "os.chdir('C:\\poems')# переходим  нужную папку\n",
    "print(os.getcwd()) # проверяем в какой папке\n",
    "for root, dirs, files in os.walk('.'):   # смотрим на список файлов и папок в директории\n",
    "    print(root)\n",
    "    print(dirs)\n",
    "    for name in files:\n",
    "        fullname = os.path.join(root, name)\n",
    "        print(fullname)\n",
    "               \n",
    "a = len([f for f in os.listdir('.') if os.path.isfile(f)]) # считаем количество файлов во всех папках по отдельности, затем складываем и получаем общее число\n",
    "print(a)\n",
    "os.chdir('C:\\poems\\котики')\n",
    "b = len([f for f in os.listdir('.') if os.path.isfile(f)])\n",
    "print(b)\n",
    "os.chdir('C:\\poems\\сказки')\n",
    "c = len([f for f in os.listdir('.') if os.path.isfile(f)])\n",
    "print(c)\n",
    "amount_of_files = a + b + c\n",
    "print(amount_of_files)\n",
    "\n",
    "\n",
    "os.chdir('C:\\poems') # запускаем папку poems\n",
    "with open('poems.txt', 'w', encoding = 'utf-8') as p:   # Создаем документт для записи\n",
    "    for file in files: #создаем большой цикл для чтения документов и записи\n",
    "        if os.path.isdir(file):\n",
    "            continue # если встречаем папку, то игнорируем ее\n",
    "        elif os.path.isfile(file): # если файл, то читаем и записываем\n",
    "            with open(file, 'r', encoding = 'utf-8') as f: \n",
    "                h = f.read()                 \n",
    "                text = p.write(h) \n",
    "    else: # кода все файлы прочитаны, переходим к папкам\n",
    "        text = p.write('\\n' + '\\n')            \n",
    "        os.chdir('C:\\poems\\котики') # первая папка\n",
    "        for file in os.listdir('.'): # миницикл для чтения файлов в папке, а также их записи в документ\n",
    "            with open(file, 'r', encoding = 'utf-8') as f: \n",
    "                h = f.read()\n",
    "                text = p.write('\\n' + h)\n",
    "        else:  \n",
    "            text = p.write('\\n' + '\\n')\n",
    "            os.chdir('C:\\poems\\сказки') # вторая папка\n",
    "            for file in os.listdir('.'):\n",
    "                with open(file, 'r', encoding = 'utf-8') as f:\n",
    "                    h = f.read()\n",
    "                    text = p.write('\\n' + h)\n",
    "            else:\n",
    "                text = p.write(\"\\n \\n Конец.\") # когда все закончено в последней папке, заканчиваем\n",
    "\n",
    "os.chdir('C:\\poems')\n",
    "with open('poems.txt', 'r', encoding ='utf-8') as f:\n",
    "    sentence = f.read()\n",
    "    print(sentence)"
   ]
  },
  {
   "cell_type": "markdown",
   "metadata": {},
   "source": [
    "## Третья задача"
   ]
  },
  {
   "cell_type": "code",
   "execution_count": null,
   "metadata": {},
   "outputs": [],
   "source": [
    "text = '''Удивительная кошка\n",
    "\n",
    "Несчастная кошка порезала лапу- \n",
    "Сидит, и ни шагу не может ступить.\n",
    "Скорей, чтобы вылечить кошкину лапу\n",
    "Воздушные шарики надо купить!\n",
    "\n",
    "И сразу столпился народ на дороге-\n",
    "Шумит, и кричит, и на кошку глядит.\n",
    "А кошка отчасти идет по дороге,\n",
    "Отчасти по воздуху плавно летит!'''\n",
    "print(len(text)) # смотрим длину текста\n",
    "clean_text = [word.strip(',.!') for word in text.split()] # очищаем от знаков препинания, разбив на слова\n",
    "print(clean_text)\n",
    "new_text = ' ' .join(clean_text) # объединяем слова в строку через пробел\n",
    "print (new_text)\n",
    "print ([w.lower() if w.istitle() else w for w in clean_text]) # переводим все заглавные буквы в нижний регистр\n",
    "print(len(clean_text))\n",
    "words = set(clean_text) # переводим в множество и считаем количество его элементов, т.к. они не повторяются\n",
    "print(len(words))\n",
    "print (clean_text[-10:]) # выводим последние 10 слов \n",
    "words = '\\n'.join(clean_text) # соединяем в строку с переносом строки\n",
    "print(words)\n",
    "print (words[19:30]) # печатаем с 20 по 30 символ\n",
    "for i in range(len(clean_text) - 1):\n",
    "    couple_of_words = clean_text[i] + ' ' + clean_text[i+1]\n",
    "    print(couple_of_words)\n",
    "for word in couple_of_words:\n",
    "    print(word, \"встречается\", couple_of_words.count(word), \"раз\")"
   ]
  }
 ],
 "metadata": {
  "kernelspec": {
   "display_name": "Python 3",
   "language": "python",
   "name": "python3"
  },
  "language_info": {
   "codemirror_mode": {
    "name": "ipython",
    "version": 3
   },
   "file_extension": ".py",
   "mimetype": "text/x-python",
   "name": "python",
   "nbconvert_exporter": "python",
   "pygments_lexer": "ipython3",
   "version": "3.7.0"
  }
 },
 "nbformat": 4,
 "nbformat_minor": 2
}
