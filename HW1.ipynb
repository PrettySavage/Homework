{
 "cells": [
  {
   "cell_type": "code",
   "execution_count": 36,
   "metadata": {
    "scrolled": true
   },
   "outputs": [
    {
     "name": "stdout",
     "output_type": "stream",
     "text": [
      "Сколько пингвинов Вы хотите увидеть? 4\n",
      "  \n",
      "   _~_       _~_       _~_    \n",
      "  (o o)     (o o)     (o o)   \n",
      " /  V  \\   /  V  \\   /  V  \\  \n",
      "/(  _  )\\ /(  _  )\\ /(  _  )\\ \n",
      "  ^^ ^^     ^^ ^^     ^^ ^^ \n",
      "   _~_      \n",
      "  (o o)   \n",
      " /  V  \\   \n",
      "/(  _  )\\   \n",
      "  ^^ ^^ \n"
     ]
    }
   ],
   "source": [
    "#1\n",
    "pinguin = str\n",
    "def birds(pinguin):\n",
    "    pinguins =  {1:'''\n",
    "                       _~_   \n",
    "                      (o o)\n",
    "                     /  V  \\   \n",
    "                    /(  _  )\\   \n",
    "                      ^^ ^^''', 2:'''\n",
    "                       _~_       _~_        \n",
    "                      (o o)     (o o)\n",
    "                     /  V  \\   /  V  \\ \n",
    "                    /(  _  )\\ /(  _  )\\  \n",
    "                      ^^ ^^     ^^ ^^''', 3:''' \n",
    "   _~_       _~_       _~_    \n",
    "  (o o)     (o o)     (o o)   \n",
    " /  V  \\   /  V  \\   /  V  \\  \n",
    "/(  _  )\\ /(  _  )\\ /(  _  )\\ \n",
    "  ^^ ^^     ^^ ^^     ^^ ^^ ''', 4:'''  \n",
    "   _~_       _~_       _~_    \n",
    "  (o o)     (o o)     (o o)   \n",
    " /  V  \\   /  V  \\   /  V  \\  \n",
    "/(  _  )\\ /(  _  )\\ /(  _  )\\ \n",
    "  ^^ ^^     ^^ ^^     ^^ ^^ \n",
    "   _~_      \n",
    "  (o o)   \n",
    " /  V  \\   \n",
    "/(  _  )\\   \n",
    "  ^^ ^^ ''', 5:'''\n",
    "   _~_       _~_       _~_    \n",
    "  (o o)     (o o)     (o o)   \n",
    " /  V  \\   /  V  \\   /  V  \\  \n",
    "/(  _  )\\ /(  _  )\\ /(  _  )\\ \n",
    "  ^^ ^^     ^^ ^^     ^^ ^^    \n",
    "   _~_       _~_   \n",
    "  (o o)     (o o)   \n",
    " /  V  \\   /  V  \\   \n",
    "/(  _  )\\ /(  _  )\\   \n",
    "  ^^ ^^     ^^ ^^''', 6:'''  \n",
    "   _~_       _~_       _~_    \n",
    "  (o o)     (o o)     (o o)   \n",
    " /  V  \\   /  V  \\   /  V  \\  \n",
    "/(  _  )\\ /(  _  )\\ /(  _  )\\ \n",
    "  ^^ ^^     ^^ ^^     ^^ ^^  \n",
    "   _~_       _~_       _~_    \n",
    "  (o o)     (o o)     (o o)   \n",
    " /  V  \\   /  V  \\   /  V  \\  \n",
    "/(  _  )\\ /(  _  )\\ /(  _  )\\ \n",
    "  ^^ ^^     ^^ ^^     ^^ ^^ ''', 7:''' \n",
    "   _~_       _~_       _~_    \n",
    "  (o o)     (o o)     (o o)   \n",
    " /  V  \\   /  V  \\   /  V  \\  \n",
    "/(  _  )\\ /(  _  )\\ /(  _  )\\ \n",
    "  ^^ ^^     ^^ ^^     ^^ ^^ \n",
    "   _~_       _~_       _~_    \n",
    "  (o o)     (o o)     (o o)   \n",
    " /  V  \\   /  V  \\   /  V  \\  \n",
    "/(  _  )\\ /(  _  )\\ /(  _  )\\ \n",
    "  ^^ ^^     ^^ ^^     ^^ ^^ \n",
    "   _~_     \n",
    "  (o o)   \n",
    " /  V  \\  \n",
    "/(  _  )\\ \n",
    "  ^^ ^^   ''', 8:''' \n",
    "   _~_       _~_       _~_    \n",
    "  (o o)     (o o)     (o o)   \n",
    " /  V  \\   /  V  \\   /  V  \\  \n",
    "/(  _  )\\ /(  _  )\\ /(  _  )\\ \n",
    "  ^^ ^^     ^^ ^^     ^^ ^^ \n",
    "   _~_       _~_       _~_    \n",
    "  (o o)     (o o)     (o o)   \n",
    " /  V  \\   /  V  \\   /  V  \\  \n",
    "/(  _  )\\ /(  _  )\\ /(  _  )\\ \n",
    "  ^^ ^^     ^^ ^^     ^^ ^^ \n",
    "   _~_       _~_    \n",
    "  (o o)     (o o)   \n",
    " /  V  \\   /  V  \\   \n",
    "/(  _  )\\ /(  _  )\\  \n",
    "  ^^ ^^     ^^ ^^  ''', 9:'''\n",
    "   _~_       _~_       _~_    \n",
    "  (o o)     (o o)     (o o)   \n",
    " /  V  \\   /  V  \\   /  V  \\  \n",
    "/(  _  )\\ /(  _  )\\ /(  _  )\\ \n",
    "  ^^ ^^     ^^ ^^     ^^ ^^ \n",
    "   _~_       _~_       _~_    \n",
    "  (o o)     (o o)     (o o)   \n",
    " /  V  \\   /  V  \\   /  V  \\  \n",
    "/(  _  )\\ /(  _  )\\ /(  _  )\\ \n",
    "  ^^ ^^     ^^ ^^     ^^ ^^ \n",
    "   _~_       _~_       _~_    \n",
    "  (o o)     (o o)     (o o)   \n",
    " /  V  \\   /  V  \\   /  V  \\  \n",
    "/(  _  )\\ /(  _  )\\ /(  _  )\\ \n",
    "  ^^ ^^     ^^ ^^     ^^ ^^ '''}\n",
    "                \n",
    "    pinguin = int(input(\"Сколько пингвинов Вы хотите увидеть? \"))\n",
    "    if pinguin in pinguins:\n",
    "        pinguins.get(pinguin)\n",
    "        print(pinguins.get(pinguin))\n",
    "    else:\n",
    "        if pinguin not in pinguins:\n",
    "                print(\"Говорят, их максимальная группа состоит из 9 особей, а минимальная из 1\")    \n",
    "birds(pinguin)"
   ]
  },
  {
   "cell_type": "code",
   "execution_count": 12,
   "metadata": {},
   "outputs": [
    {
     "name": "stdout",
     "output_type": "stream",
     "text": [
      "38\n",
      "8\n"
     ]
    }
   ],
   "source": [
    "#2\n",
    "string = \"Do not go gentle into that good night.\"\n",
    "print(len(string))\n",
    "words = string.split()\n",
    "print(len(words))"
   ]
  },
  {
   "cell_type": "code",
   "execution_count": 136,
   "metadata": {},
   "outputs": [
    {
     "name": "stdout",
     "output_type": "stream",
     "text": [
      "d\n",
      "t\n",
      "Old a\n",
      "Old age should burn and rave at close of day. Rage, rage against the dying of the ligh\n",
      "Odaesol unadrv tcoeo a.Rg,rg gis h yn ftelgt\n",
      "l g hudbr n aea ls fdy ae aeaanttedigo h ih.\n",
      ".thgil eht fo gniyd eht tsniaga egar ,egaR .yad fo esolc ta evar dna nrub dluohs ega dlO\n",
      ".hi h ogidettnaaea ea ydf sl aea n rbduh g l\n",
      "88\n"
     ]
    }
   ],
   "source": [
    "#3\n",
    "continuation = \"Old age should burn and rave at close of day. Rage, rage against the dying of the light.\"\n",
    "print(continuation[2])\n",
    "print(continuation[-2])\n",
    "print(continuation[0:5])\n",
    "print(continuation[:-2])\n",
    "for i in range(0,len(continuation),2):\n",
    "    print(continuation[i], end = '')\n",
    "else:\n",
    "    print()\n",
    "for i in range(0,len(continuation),2):\n",
    "    print(continuation[i+1], end = '')\n",
    "else:\n",
    "    print()\n",
    "print(continuation[::-1])\n",
    "continuation = continuation[::-1]\n",
    "for i in range (0,len(continuation),2):\n",
    "    print(continuation[i], end = '')\n",
    "print()\n",
    "print(len(continuation))\n",
    "\n",
    "\n",
    "\n",
    "    "
   ]
  },
  {
   "cell_type": "code",
   "execution_count": 161,
   "metadata": {},
   "outputs": [
    {
     "name": "stdout",
     "output_type": "stream",
     "text": [
      "YES\n",
      "NO\n",
      "Введите слово: авыф\n",
      "NO\n"
     ]
    }
   ],
   "source": [
    "#4\n",
    "#Берем слово \"tikit\"\n",
    "print(\"YES\")\n",
    "\n",
    "#Берем слово \"bridge\"\n",
    "print(\"NO\")\n",
    "\n",
    "#И на всякий случай написана нижеследующая программа.\n",
    "#Эта программа проверяет любое слово: читается ли оно одинаково справа налево и слева направо.\n",
    "word = str\n",
    "def check_reading(word):\n",
    "    word = str(input(\"Введите слово: \"))\n",
    "    reversed_word = word[::-1]\n",
    "    if reversed_word == word:\n",
    "        print(\"YES\")\n",
    "    else:\n",
    "        if reversed_word != word:\n",
    "            print(\"NO\")\n",
    "    \n",
    "        \n",
    "        \n",
    "check_reading(word)"
   ]
  },
  {
   "cell_type": "code",
   "execution_count": 11,
   "metadata": {},
   "outputs": [
    {
     "name": "stdout",
     "output_type": "stream",
     "text": [
      "Введите слово: которая\n",
      "Слово котораявстречается в тексте 1 раз\n"
     ]
    }
   ],
   "source": [
    "#5\n",
    "text = '''законы физики рядом с черной дырой уже не работают в том представлении в котором мы привыкли \n",
    "пространство время искривляется и все события протекают уже совсем по другому \n",
    "словно пылесос черная дыра поглощает все что находится около нее планеты астероиды свет и прочее \n",
    "ранее считалось что черная дыра ничего не излучает но как доказал стивен хокинг черная дыра излучает антивещество \n",
    "то есть поедает вещество и выделяет антивещество \n",
    "ранее думали что если кинуть в черную дыру человека то ему труба порвет на субатомы \n",
    "но как оказалось по некоторым уравнениям есть определенные траектории путешествия сквозь черную дыру чтоб чувствовать себя нормально \n",
    "правда не ясно что будет за ней другой мир или ничего \n",
    "область вокруг черной дыры которая интересна называется горизонтом событий \n",
    "если туда полететь не зная волшебное уравнение то будет конечно не очень \n",
    "наблюдатель будет видеть как космический корабль влетает в горизонт событий и крайне медленно потом отдаляется пока не застынет в центре\n",
    "у самого же космонавта дела будут идти совсем по другому \n",
    "искривленное пространство будет лепить из него как из пластилина различные формы пока наконец не разорвет все на субатомы \n",
    "но для внешнего наблюдателя космонавт навсегда останется улыбающимся и махающим в иллюминатор застывшим изображением'''\n",
    "\n",
    "word = str\n",
    "text.split()\n",
    "broken_text = text.split()\n",
    "def check_word(word):\n",
    "    word = str(input(\"Введите слово: \"))\n",
    "    if word in broken_text:\n",
    "        amount = broken_text.count(word)\n",
    "        print(\"Слово \" + word + \"встречается в тексте %s\" % (amount) + \" раз\")\n",
    "    else:\n",
    "        if word not in broken_text:\n",
    "            broken_text.append(word)\n",
    "            print(\"Слово \" + word + \" добавлено\")\n",
    "            \n",
    "check_word(word)"
   ]
  },
  {
   "cell_type": "code",
   "execution_count": null,
   "metadata": {},
   "outputs": [],
   "source": []
  },
  {
   "cell_type": "code",
   "execution_count": null,
   "metadata": {},
   "outputs": [],
   "source": []
  }
 ],
 "metadata": {
  "kernelspec": {
   "display_name": "Python 3",
   "language": "python",
   "name": "python3"
  },
  "language_info": {
   "codemirror_mode": {
    "name": "ipython",
    "version": 3
   },
   "file_extension": ".py",
   "mimetype": "text/x-python",
   "name": "python",
   "nbconvert_exporter": "python",
   "pygments_lexer": "ipython3",
   "version": "3.7.0"
  }
 },
 "nbformat": 4,
 "nbformat_minor": 2
}
